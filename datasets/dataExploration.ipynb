{
 "cells": [
  {
   "cell_type": "code",
   "execution_count": 2,
   "metadata": {},
   "outputs": [],
   "source": [
    "import pandas as pd "
   ]
  },
  {
   "cell_type": "code",
   "execution_count": 3,
   "metadata": {},
   "outputs": [],
   "source": [
    "# Read the data from the CSV file\n",
    "data1 = pd.read_csv('1Resume.csv')\n",
    "data2 = pd.read_csv('2UpdatedResumeDataSet.csv')\n",
    "data3 = pd.read_csv('3resume_data.csv')"
   ]
  },
  {
   "cell_type": "code",
   "execution_count": 4,
   "metadata": {},
   "outputs": [
    {
     "name": "stdout",
     "output_type": "stream",
     "text": [
      "<class 'pandas.core.frame.DataFrame'>\n",
      "RangeIndex: 2484 entries, 0 to 2483\n",
      "Data columns (total 4 columns):\n",
      " #   Column       Non-Null Count  Dtype \n",
      "---  ------       --------------  ----- \n",
      " 0   ID           2484 non-null   int64 \n",
      " 1   Resume_str   2484 non-null   object\n",
      " 2   Resume_html  2484 non-null   object\n",
      " 3   Category     2484 non-null   object\n",
      "dtypes: int64(1), object(3)\n",
      "memory usage: 77.8+ KB\n",
      "None\n"
     ]
    }
   ],
   "source": [
    "# check for problems in the data\n",
    "print(data1.info())"
   ]
  },
  {
   "cell_type": "code",
   "execution_count": null,
   "metadata": {},
   "outputs": [
    {
     "name": "stdout",
     "output_type": "stream",
     "text": [
      "<class 'pandas.core.frame.DataFrame'>\n",
      "RangeIndex: 962 entries, 0 to 961\n",
      "Data columns (total 2 columns):\n",
      " #   Column    Non-Null Count  Dtype \n",
      "---  ------    --------------  ----- \n",
      " 0   Category  962 non-null    object\n",
      " 1   Resume    962 non-null    object\n",
      "dtypes: object(2)\n",
      "memory usage: 15.2+ KB\n",
      "None\n"
     ]
    }
   ],
   "source": [
    "print(data2.info())"
   ]
  },
  {
   "cell_type": "code",
   "execution_count": 6,
   "metadata": {},
   "outputs": [
    {
     "name": "stdout",
     "output_type": "stream",
     "text": [
      "<class 'pandas.core.frame.DataFrame'>\n",
      "RangeIndex: 9544 entries, 0 to 9543\n",
      "Data columns (total 35 columns):\n",
      " #   Column                               Non-Null Count  Dtype  \n",
      "---  ------                               --------------  -----  \n",
      " 0   address                              784 non-null    object \n",
      " 1   career_objective                     4740 non-null   object \n",
      " 2   skills                               9488 non-null   object \n",
      " 3   educational_institution_name         9460 non-null   object \n",
      " 4   degree_names                         9460 non-null   object \n",
      " 5   passing_years                        9460 non-null   object \n",
      " 6   educational_results                  9460 non-null   object \n",
      " 7   result_types                         9460 non-null   object \n",
      " 8   major_field_of_studies               9460 non-null   object \n",
      " 9   professional_company_names           9460 non-null   object \n",
      " 10  company_urls                         9460 non-null   object \n",
      " 11  start_dates                          9460 non-null   object \n",
      " 12  end_dates                            9460 non-null   object \n",
      " 13  related_skils_in_job                 9460 non-null   object \n",
      " 14  positions                            9460 non-null   object \n",
      " 15  locations                            9460 non-null   object \n",
      " 16  responsibilities                     9544 non-null   object \n",
      " 17  extra_curricular_activity_types      3426 non-null   object \n",
      " 18  extra_curricular_organization_names  3426 non-null   object \n",
      " 19  extra_curricular_organization_links  3426 non-null   object \n",
      " 20  role_positions                       3426 non-null   object \n",
      " 21  languages                            700 non-null    object \n",
      " 22  proficiency_levels                   700 non-null    object \n",
      " 23  certification_providers              2008 non-null   object \n",
      " 24  certification_skills                 2008 non-null   object \n",
      " 25  online_links                         2008 non-null   object \n",
      " 26  issue_dates                          2008 non-null   object \n",
      " 27  expiry_dates                         2008 non-null   object \n",
      " 28  job_position_name                    9544 non-null   object \n",
      " 29  educationaL_requirements             9544 non-null   object \n",
      " 30  experiencere_requirement             8180 non-null   object \n",
      " 31  age_requirement                      5457 non-null   object \n",
      " 32  responsibilities.1                   9544 non-null   object \n",
      " 33  skills_required                      7843 non-null   object \n",
      " 34  matched_score                        9544 non-null   float64\n",
      "dtypes: float64(1), object(34)\n",
      "memory usage: 2.5+ MB\n",
      "None\n"
     ]
    }
   ],
   "source": [
    "print(data3.info())"
   ]
  },
  {
   "cell_type": "code",
   "execution_count": null,
   "metadata": {},
   "outputs": [],
   "source": []
  }
 ],
 "metadata": {
  "kernelspec": {
   "display_name": "mpl3",
   "language": "python",
   "name": "python3"
  },
  "language_info": {
   "codemirror_mode": {
    "name": "ipython",
    "version": 3
   },
   "file_extension": ".py",
   "mimetype": "text/x-python",
   "name": "python",
   "nbconvert_exporter": "python",
   "pygments_lexer": "ipython3",
   "version": "3.9.18"
  }
 },
 "nbformat": 4,
 "nbformat_minor": 2
}
