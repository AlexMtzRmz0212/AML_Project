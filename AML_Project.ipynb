{
 "cells": [
  {
   "cell_type": "markdown",
   "metadata": {},
   "source": [
    "# Installs"
   ]
  },
  {
   "cell_type": "code",
   "execution_count": 21,
   "metadata": {},
   "outputs": [],
   "source": [
    "# ! pip install langchain\n",
    "# ! pip install -U langchain-ollama\n",
    "# ! pip install fpdf"
   ]
  },
  {
   "cell_type": "markdown",
   "metadata": {},
   "source": [
    "# Imports"
   ]
  },
  {
   "cell_type": "code",
   "execution_count": 22,
   "metadata": {},
   "outputs": [],
   "source": [
    "import re\n",
    "from fpdf import FPDF\n",
    "from langchain_core.prompts import ChatPromptTemplate\n",
    "from langchain_ollama.llms import OllamaLLM"
   ]
  },
  {
   "cell_type": "markdown",
   "metadata": {},
   "source": [
    "# Initialize the LLM model"
   ]
  },
  {
   "cell_type": "code",
   "execution_count": 23,
   "metadata": {},
   "outputs": [],
   "source": [
    "model = OllamaLLM(model=\"llama3.2\", base_url=\"http://10.50.18.32:11434/\")"
   ]
  },
  {
   "cell_type": "markdown",
   "metadata": {},
   "source": [
    "# Prompt Template for Cover Letter"
   ]
  },
  {
   "cell_type": "code",
   "execution_count": 24,
   "metadata": {},
   "outputs": [],
   "source": [
    "template = \"\"\"Job Description: {job_description}\n",
    "\n",
    "Task: Generate a concise, one-page professional and personalized cover letter tailored to the provided job description. \n",
    "Ensure the letter includes:\n",
    "1. A strong introduction mentioning enthusiasm for the role.\n",
    "2. A middle section highlighting relevant skills and experience.\n",
    "3. A closing paragraph expressing eagerness to discuss further.\n",
    "4. Proper formatting with clear paragraphs, keeping it within one page.\n",
    "\n",
    "Provide the output strictly in the following format:\n",
    "\n",
    "---\n",
    "Dear Hiring Manager,\n",
    "\n",
    "<introduction>\n",
    "\n",
    "<body>\n",
    "\n",
    "<closing>\n",
    "\n",
    "Sincerely,\n",
    "[Your Name]\n",
    "---\"\"\"\n"
   ]
  },
  {
   "cell_type": "markdown",
   "metadata": {},
   "source": [
    "# Chat Template and Chain"
   ]
  },
  {
   "cell_type": "code",
   "execution_count": 25,
   "metadata": {},
   "outputs": [],
   "source": [
    "# Create the chat prompt template\n",
    "prompt = ChatPromptTemplate.from_template(template)\n",
    "\n",
    "# Create the chain\n",
    "chain = prompt | model\n"
   ]
  },
  {
   "cell_type": "markdown",
   "metadata": {},
   "source": [
    "# Function to parse the response"
   ]
  },
  {
   "cell_type": "code",
   "execution_count": 26,
   "metadata": {},
   "outputs": [],
   "source": [
    "def parse_cover_letter(response):\n",
    "    match = re.search(r\"Dear Hiring Manager,.*?Sincerely,.*\", response, re.DOTALL)\n",
    "    return match.group(0).strip() if match else \"Error generating cover letter.\"\n"
   ]
  },
  {
   "cell_type": "markdown",
   "metadata": {},
   "source": [
    "# Function to generate cover letter"
   ]
  },
  {
   "cell_type": "code",
   "execution_count": 27,
   "metadata": {},
   "outputs": [],
   "source": [
    "def generate_cover_letter(job_description):\n",
    "    response = chain.invoke({\"job_description\": job_description})\n",
    "    return parse_cover_letter(response)\n"
   ]
  },
  {
   "cell_type": "markdown",
   "metadata": {},
   "source": [
    "# Execution"
   ]
  },
  {
   "cell_type": "code",
   "execution_count": 28,
   "metadata": {},
   "outputs": [
    {
     "name": "stdout",
     "output_type": "stream",
     "text": [
      "Dear Hiring Manager,\n",
      "\n",
      "I am thrilled to apply for the Data Analyst position at your esteemed organization. With a passion for uncovering insights and driving business growth, I am confident that my skills and experience make me an ideal fit for this role.\n",
      "\n",
      "As a highly motivated and detail-oriented data analyst, I possess extensive expertise in Python, SQL, and data visualization tools such as Tableau and Power BI. My proficiency in Python has enabled me to develop efficient data analysis scripts, while my knowledge of SQL has allowed me to effectively extract and manipulate complex data sets. Additionally, my experience with data visualization tools has empowered me to communicate insights and trends to both technical and non-technical stakeholders.\n",
      "\n",
      "In my current role at XYZ Corporation, I have successfully utilized these skills to drive business decisions through data-driven insights. For instance, I designed a Python script that automatically processed large datasets, resulting in significant time savings and improved productivity. Furthermore, I created a SQL query that optimized the company's database performance, leading to faster data retrieval and enhanced decision-making capabilities.\n",
      "\n",
      "I am eager to bring my skills and experience to your team and contribute to the organization's success. I would be delighted to discuss this opportunity further and explore how my expertise can support the company's goals. Please feel free to contact me at your convenience.\n",
      "\n",
      "Sincerely,\n",
      "[Your Name]\n"
     ]
    }
   ],
   "source": [
    "\n",
    "if __name__ == \"__main__\":\n",
    "    job_desc = \"\"\"We are looking for a skilled Data Analyst to join our team. \n",
    "    The ideal candidate has experience in Python, SQL, and data visualization. \n",
    "    Responsibilities include data cleaning, analysis, and reporting insights.\"\"\"\n",
    "    cover_letter = generate_cover_letter(job_desc)\n",
    "    print(cover_letter)"
   ]
  },
  {
   "cell_type": "markdown",
   "metadata": {},
   "source": [
    "# PDF integration"
   ]
  },
  {
   "cell_type": "code",
   "execution_count": 29,
   "metadata": {},
   "outputs": [
    {
     "name": "stdout",
     "output_type": "stream",
     "text": [
      "Cover letter saved as cover_letter.pdf\n"
     ]
    }
   ],
   "source": [
    "# Function to save cover letter as PDF\n",
    "def save_cover_letter_as_pdf(cover_letter, filename=\"cover_letter.pdf\"):\n",
    "    pdf = FPDF()\n",
    "    pdf.set_auto_page_break(auto=True, margin=15)\n",
    "    pdf.add_page()\n",
    "    pdf.set_font(\"Arial\", size=12)\n",
    "    pdf.multi_cell(0, 10, cover_letter)\n",
    "    pdf.output(filename)\n",
    "    print(f\"Cover letter saved as {filename}\")\n",
    "\n",
    "save_cover_letter_as_pdf(cover_letter)\n"
   ]
  }
 ],
 "metadata": {
  "kernelspec": {
   "display_name": "mpl3",
   "language": "python",
   "name": "python3"
  },
  "language_info": {
   "codemirror_mode": {
    "name": "ipython",
    "version": 3
   },
   "file_extension": ".py",
   "mimetype": "text/x-python",
   "name": "python",
   "nbconvert_exporter": "python",
   "pygments_lexer": "ipython3",
   "version": "3.9.18"
  }
 },
 "nbformat": 4,
 "nbformat_minor": 2
}
